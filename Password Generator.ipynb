{
 "cells": [
  {
   "cell_type": "markdown",
   "id": "c81ea923",
   "metadata": {},
   "source": [
    "# Python program for \"password Generator\""
   ]
  },
  {
   "cell_type": "code",
   "execution_count": null,
   "id": "e9b99d2b",
   "metadata": {},
   "outputs": [],
   "source": [
    "import random\n",
    "import string\n",
    "from tabulate import tabulate\n",
    "\n",
    "def generate_password(length=8):\n",
    "    characters = string.ascii_letters + string.digits + string.punctuation\n",
    "    password = ''.join(random.choice(characters) for _ in range(length))\n",
    "    return password\n",
    "\n",
    "def generate_passwords_table(entries):\n",
    "    passwords = []\n",
    "    for entry in entries:\n",
    "        name, password_length = entry\n",
    "        password = generate_password(password_length)\n",
    "        passwords.append([name, password_length, password])\n",
    "    \n",
    "    headers = [\"Name\", \"Password Length\", \"Generated Password\"]\n",
    "    table = tabulate(passwords, headers=headers, tablefmt=\"grid\")\n",
    "    return table\n",
    "\n",
    "if __name__ == \"__main__\":\n",
    "    num_entries = int(input(\"Enter the number of users: \"))\n",
    "    \n",
    "    entries = []\n",
    "    for _ in range(num_entries):\n",
    "        name = input(\"Enter user's name: \")\n",
    "        password_length = int(input(\"Enter desired password length: \"))\n",
    "        entries.append((name, password_length))\n",
    "    \n",
    "    passwords_table = generate_passwords_table(entries)\n",
    "    print(passwords_table)"
   ]
  },
  {
   "cell_type": "code",
   "execution_count": null,
   "id": "0ed30bef",
   "metadata": {},
   "outputs": [],
   "source": []
  }
 ],
 "metadata": {
  "kernelspec": {
   "display_name": "Python 3 (ipykernel)",
   "language": "python",
   "name": "python3"
  },
  "language_info": {
   "codemirror_mode": {
    "name": "ipython",
    "version": 3
   },
   "file_extension": ".py",
   "mimetype": "text/x-python",
   "name": "python",
   "nbconvert_exporter": "python",
   "pygments_lexer": "ipython3",
   "version": "3.10.9"
  }
 },
 "nbformat": 4,
 "nbformat_minor": 5
}
